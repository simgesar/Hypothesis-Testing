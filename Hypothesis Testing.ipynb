{
 "cells": [
  {
   "cell_type": "code",
   "execution_count": null,
   "id": "a532bb65-08cd-4236-bd47-bcf2525a02db",
   "metadata": {},
   "outputs": [],
   "source": [
    "# Hypothesis testing: 2-Sample t-test"
   ]
  },
  {
   "cell_type": "code",
   "execution_count": 2,
   "id": "83e94927-4e1b-43d5-b17f-99de3c02906d",
   "metadata": {
    "tags": []
   },
   "outputs": [],
   "source": [
    "import pandas as pd\n",
    "import numpy as np\n",
    "import matplotlib.pyplot as plt"
   ]
  },
  {
   "cell_type": "code",
   "execution_count": 3,
   "id": "0cc23a0c-3a67-4de3-8088-edd0f5f18ea0",
   "metadata": {
    "tags": []
   },
   "outputs": [],
   "source": [
    "from scipy.stats import ttest_ind"
   ]
  },
  {
   "cell_type": "code",
   "execution_count": 6,
   "id": "e215785c-f01a-4f2c-8da9-d4aa88872be9",
   "metadata": {
    "tags": []
   },
   "outputs": [],
   "source": [
    "#Created an an experiment with two versions of a webpage. The metric you compare is the session time each user stays on the page.\n",
    "\n",
    "#If the confidence level is 90%, is there a statistically significant difference between the two pages?\n"
   ]
  },
  {
   "cell_type": "code",
   "execution_count": 4,
   "id": "2741ebfc-1a71-4e65-a0b5-b7bb4175b22b",
   "metadata": {
    "tags": []
   },
   "outputs": [
    {
     "data": {
      "text/html": [
       "<div>\n",
       "<style scoped>\n",
       "    .dataframe tbody tr th:only-of-type {\n",
       "        vertical-align: middle;\n",
       "    }\n",
       "\n",
       "    .dataframe tbody tr th {\n",
       "        vertical-align: top;\n",
       "    }\n",
       "\n",
       "    .dataframe thead th {\n",
       "        text-align: right;\n",
       "    }\n",
       "</style>\n",
       "<table border=\"1\" class=\"dataframe\">\n",
       "  <thead>\n",
       "    <tr style=\"text-align: right;\">\n",
       "      <th></th>\n",
       "      <th>Page</th>\n",
       "      <th>Time</th>\n",
       "    </tr>\n",
       "  </thead>\n",
       "  <tbody>\n",
       "    <tr>\n",
       "      <th>0</th>\n",
       "      <td>Page A</td>\n",
       "      <td>21.0</td>\n",
       "    </tr>\n",
       "    <tr>\n",
       "      <th>1</th>\n",
       "      <td>Page B</td>\n",
       "      <td>253.0</td>\n",
       "    </tr>\n",
       "    <tr>\n",
       "      <th>2</th>\n",
       "      <td>Page A</td>\n",
       "      <td>35.0</td>\n",
       "    </tr>\n",
       "    <tr>\n",
       "      <th>3</th>\n",
       "      <td>Page B</td>\n",
       "      <td>71.0</td>\n",
       "    </tr>\n",
       "    <tr>\n",
       "      <th>4</th>\n",
       "      <td>Page A</td>\n",
       "      <td>67.0</td>\n",
       "    </tr>\n",
       "  </tbody>\n",
       "</table>\n",
       "</div>"
      ],
      "text/plain": [
       "     Page   Time\n",
       "0  Page A   21.0\n",
       "1  Page B  253.0\n",
       "2  Page A   35.0\n",
       "3  Page B   71.0\n",
       "4  Page A   67.0"
      ]
     },
     "execution_count": 4,
     "metadata": {},
     "output_type": "execute_result"
    }
   ],
   "source": [
    "# session_times.csv\n",
    "url = 'https://drive.google.com/file/d/1nYRMCgv3OKaiIUDBPgq-EnE2sWhgrJI3/view?usp=sharing' \n",
    "path = 'https://drive.google.com/uc?export=download&id='+url.split('/')[-2]\n",
    "session_times = pd.read_csv(path)\n",
    "\n",
    "session_times.head()"
   ]
  },
  {
   "cell_type": "code",
   "execution_count": 5,
   "id": "a781e2ae-e4b3-4695-8e93-b14ab29e3913",
   "metadata": {
    "tags": []
   },
   "outputs": [
    {
     "data": {
      "text/plain": [
       "Page A    21\n",
       "Page B    15\n",
       "Name: Page, dtype: int64"
      ]
     },
     "execution_count": 5,
     "metadata": {},
     "output_type": "execute_result"
    }
   ],
   "source": [
    "session_times.Page.value_counts()"
   ]
  },
  {
   "cell_type": "code",
   "execution_count": 7,
   "id": "1ba539fc-cb4c-4689-b77b-dfbd5d6f3955",
   "metadata": {
    "tags": []
   },
   "outputs": [],
   "source": [
    "#Find the observed difference between the mean session time fo the two pages."
   ]
  },
  {
   "cell_type": "code",
   "execution_count": 9,
   "id": "b09ebaef-1cb9-4571-8591-93993fb8291b",
   "metadata": {
    "tags": []
   },
   "outputs": [
    {
     "data": {
      "text/plain": [
       "35.66666666666667"
      ]
     },
     "execution_count": 9,
     "metadata": {},
     "output_type": "execute_result"
    }
   ],
   "source": [
    "page_a = session_times.loc[session_times[\"Page\"]==\"Page A\", \"Time\"]\n",
    "page_a_mean = page_a.mean()\n",
    "page_a_mean\n",
    "\n",
    "page_b = session_times.loc[session_times[\"Page\"]==\"Page B\", \"Time\"]\n",
    "page_b_mean = page_b.mean()\n",
    "page_b_mean\n",
    "\n",
    "mean_diff = abs(page_a_mean-page_b_mean)\n",
    "mean_diff"
   ]
  },
  {
   "cell_type": "code",
   "execution_count": 11,
   "id": "057f0aaf-4c90-4b28-83df-cc80df5fc8a1",
   "metadata": {
    "tags": []
   },
   "outputs": [
    {
     "name": "stdout",
     "output_type": "stream",
     "text": [
      "Mean in B: 162\n"
     ]
    }
   ],
   "source": [
    "print(\"Mean in B:\", round(np.mean(page_b),))"
   ]
  },
  {
   "cell_type": "code",
   "execution_count": 12,
   "id": "7c462a24-3ad9-4695-afe8-c617e4f27ee2",
   "metadata": {
    "tags": []
   },
   "outputs": [
    {
     "name": "stdout",
     "output_type": "stream",
     "text": [
      "Mean in A: 126\n"
     ]
    }
   ],
   "source": [
    "print(\"Mean in A:\", round(np.mean(page_a),))"
   ]
  },
  {
   "cell_type": "code",
   "execution_count": 10,
   "id": "3cce9fe6-50db-4ca4-9b59-d11c7e9462ee",
   "metadata": {
    "tags": []
   },
   "outputs": [],
   "source": [
    "#Establish the Null and the Alternative Hypotheses.\n",
    "\n",
    "Null Hypothesis ( 𝐻0 ): mean session time on Page A = mean session time on Page B\n",
    "\n",
    "Alternative Hypothesis ( 𝐻𝐴 ): mean session time on Page A != mean session time on Page B"
   ]
  },
  {
   "cell_type": "code",
   "execution_count": 15,
   "id": "901554e3-ad50-44b7-8852-f30c2ae84516",
   "metadata": {
    "tags": []
   },
   "outputs": [
    {
     "data": {
      "text/plain": [
       "0.1"
      ]
     },
     "execution_count": 15,
     "metadata": {},
     "output_type": "execute_result"
    }
   ],
   "source": [
    "#Define and interpret alpha.\n",
    "0.1"
   ]
  },
  {
   "cell_type": "code",
   "execution_count": 16,
   "id": "2c5cf4b2-4bd4-45da-8d63-ab71d243b599",
   "metadata": {
    "tags": []
   },
   "outputs": [],
   "source": [
    "#Filter the dataframe session_times so that you can have two Pandas Series with the session times for Paga A and Page B."
   ]
  },
  {
   "cell_type": "code",
   "execution_count": 17,
   "id": "8fa63707-e6d5-4751-b13a-4210b9917745",
   "metadata": {
    "tags": []
   },
   "outputs": [
    {
     "data": {
      "text/plain": [
       "1     253.0\n",
       "3      71.0\n",
       "5      85.0\n",
       "7     246.0\n",
       "9     149.0\n",
       "11     75.0\n",
       "13    333.0\n",
       "15    187.0\n",
       "17    126.0\n",
       "19     48.0\n",
       "21    147.0\n",
       "23    357.0\n",
       "25    223.0\n",
       "27     43.0\n",
       "29     87.0\n",
       "Name: Time, dtype: float64"
      ]
     },
     "execution_count": 17,
     "metadata": {},
     "output_type": "execute_result"
    }
   ],
   "source": [
    "page_a\n",
    "page_b"
   ]
  },
  {
   "cell_type": "code",
   "execution_count": null,
   "id": "38844fea-0342-4b0c-8c65-4c9ba5aeb201",
   "metadata": {},
   "outputs": [],
   "source": [
    "#Use Scipy to find the p-value."
   ]
  },
  {
   "cell_type": "code",
   "execution_count": 18,
   "id": "f3f02252-fe7d-4422-b35c-0719b834ecd8",
   "metadata": {
    "tags": []
   },
   "outputs": [],
   "source": [
    "tscore, pvalue = ttest_ind(a = page_a, b = page_b, alternative='two-sided')"
   ]
  },
  {
   "cell_type": "code",
   "execution_count": 19,
   "id": "0edefb4a-12ba-4391-9ca0-93236376b94c",
   "metadata": {
    "tags": []
   },
   "outputs": [
    {
     "data": {
      "text/plain": [
       "0.2690102436392606"
      ]
     },
     "execution_count": 19,
     "metadata": {},
     "output_type": "execute_result"
    }
   ],
   "source": [
    "pvalue"
   ]
  },
  {
   "cell_type": "code",
   "execution_count": null,
   "id": "b0bd6226-2fd9-40f9-a727-769d941d45ad",
   "metadata": {},
   "outputs": [],
   "source": [
    "#State the result of the experiment and the interpretation of the p-value."
   ]
  },
  {
   "cell_type": "code",
   "execution_count": 20,
   "id": "82fd0fa0-c2f4-4483-bd08-4a69173d35b6",
   "metadata": {
    "tags": []
   },
   "outputs": [
    {
     "name": "stderr",
     "output_type": "stream",
     "text": [
      "/Users/simgesargin/opt/anaconda3/lib/python3.9/site-packages/numpy/core/fromnumeric.py:3438: FutureWarning: In a future version, DataFrame.mean(axis=None) will return a scalar mean over the entire DataFrame. To retain the old behavior, use 'frame.mean(axis=0)' or just 'frame.mean()'\n",
      "  return mean(axis=axis, dtype=dtype, out=out, **kwargs)\n"
     ]
    },
    {
     "data": {
      "image/png": "[encoded data removed]",
      "text/plain": [
       "<Figure size 640x480 with 1 Axes>"
      ]
     },
     "metadata": {},
     "output_type": "display_data"
    }
   ],
   "source": [
    "page_a_df=session_times.loc[session_times[\"Page\"]==\"Page A\", [\"Time\"]]\n",
    "page_b_df=session_times.loc[session_times[\"Page\"]==\"Page B\", [\"Time\"]]\n",
    "ypa, xpa, _ = plt.hist(page_a_df, bins=10, alpha=0.5, label=\"Page A\")\n",
    "ypb, xpb, _ = plt.hist(page_b_df, bins=10, alpha=0.5, label=\"Page B\")\n",
    "plt.vlines(np.mean(page_a_df), ymin=0, ymax=max(max(ypa), max(ypb)), color=\"blue\", label=\"Mean Page A\")\n",
    "plt.vlines(np.mean(page_b_df), ymin=0, ymax=max(max(ypa), max(ypb)), color=\"red\", label=\"Mean Page B\")\n",
    "plt.show()"
   ]
  },
  {
   "cell_type": "code",
   "execution_count": null,
   "id": "a5aafc38-bfb5-405a-bf2f-c57c8a9c44f0",
   "metadata": {},
   "outputs": [],
   "source": []
  }
 ],
 "metadata": {
  "kernelspec": {
   "display_name": "Python 3 (ipykernel)",
   "language": "python",
   "name": "python3"
  },
  "language_info": {
   "codemirror_mode": {
    "name": "ipython",
    "version": 3
   },
   "file_extension": ".py",
   "mimetype": "text/x-python",
   "name": "python",
   "nbconvert_exporter": "python",
   "pygments_lexer": "ipython3",
   "version": "3.9.13"
  }
 },
 "nbformat": 4,
 "nbformat_minor": 5
}
